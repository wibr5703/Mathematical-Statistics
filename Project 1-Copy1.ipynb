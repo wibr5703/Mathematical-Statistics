{
 "cells": [
  {
   "cell_type": "code",
   "execution_count": 126,
   "metadata": {},
   "outputs": [],
   "source": [
    "#PART 1(A)\n",
    "\n",
    "late_given_bike = .09\n",
    "late_given_car = .24\n",
    "late_given_bus = .17\n",
    "\n",
    "bike = .60\n",
    "car = .10\n",
    "bus = .30\n",
    "\n",
    "bike_given_late = (late_given_bike*bike)/(late_given_bike*bike+late_given_car*car+late_given_bus*bus)\n",
    "car_give_late = (late_given_car*car)/(late_given_bike*bike+late_given_car*car+late_given_bus*bus)\n",
    "bus_given_late = (late_given_bus*bus)/(late_given_bike*bike+late_given_car*car+late_given_bus*bus)"
   ]
  },
  {
   "cell_type": "code",
   "execution_count": 127,
   "metadata": {},
   "outputs": [
    {
     "name": "stdout",
     "output_type": "stream",
     "text": [
      "The conditional probability of taking bike given he is late:  0.4186047 \n",
      "The conditional probability of taking car given he is late:  0.1860465 \n",
      "The conditional probability of taking bus given he is late:  0.3953488 \n"
     ]
    }
   ],
   "source": [
    "cat(\"The conditional probability of taking bike given he is late: \", bike_given_late,\"\\n\")\n",
    "cat(\"The conditional probability of taking car given he is late: \", car_give_late,\"\\n\")\n",
    "cat(\"The conditional probability of taking bus given he is late: \", bus_given_late,\"\\n\")"
   ]
  },
  {
   "cell_type": "code",
   "execution_count": 128,
   "metadata": {},
   "outputs": [],
   "source": [
    "#PART 1(B)\n",
    "\n",
    "late_given_bike1 = .09\n",
    "late_given_car1 = .24\n",
    "late_given_bus1 = .17\n",
    "\n",
    "bike1 = 1/3\n",
    "car1 = 1/3\n",
    "bus1 = 1/3\n",
    "\n",
    "bike_given_late1 = (late_given_bike1*bike1)/(late_given_bike1*bike1+late_given_car1*car1+late_given_bus1*bus1)\n",
    "car_give_late1 = (late_given_car1*car1)/(late_given_bike1*bike1+late_given_car1*car1+late_given_bus1*bus1)\n",
    "bus_given_late1 = (late_given_bus1*bus1)/(late_given_bike1*bike1+late_given_car1*car1+late_given_bus1*bus1)"
   ]
  },
  {
   "cell_type": "code",
   "execution_count": 129,
   "metadata": {},
   "outputs": [
    {
     "name": "stdout",
     "output_type": "stream",
     "text": [
      "The conditional probability of taking bike given he is late:  0.18 \n",
      "The conditional probability of taking car given he is late:  0.48 \n",
      "The conditional probability of taking bus given he is late:  0.34 \n"
     ]
    }
   ],
   "source": [
    "cat(\"The conditional probability of taking bike given he is late: \", bike_given_late1,\"\\n\")\n",
    "cat(\"The conditional probability of taking car given he is late: \", car_give_late1,\"\\n\")\n",
    "cat(\"The conditional probability of taking bus given he is late: \", bus_given_late1,\"\\n\")"
   ]
  },
  {
   "cell_type": "code",
   "execution_count": 130,
   "metadata": {},
   "outputs": [],
   "source": [
    "#PART 2\n",
    "hypergeometric_pdf <- function(M,N,n,x) {\n",
    "    hypergeometric_pdf = (choose(M, x)*choose(N-M, n-x))/choose(N, n)\n",
    "    return(hypergeometric_pdf)\n",
    "}"
   ]
  },
  {
   "cell_type": "code",
   "execution_count": 131,
   "metadata": {},
   "outputs": [
    {
     "name": "stdout",
     "output_type": "stream",
     "text": [
      "[1] 40\n",
      "[1] 0.1261426\n",
      "[1] 41\n",
      "[1] 0.1182587\n",
      "[1] 42\n",
      "[1] 0.110774\n",
      "[1] 43\n",
      "[1] 0.1036731\n",
      "[1] 44\n",
      "[1] 0.09694108\n",
      "[1] 45\n",
      "[1] 0.09056338\n"
     ]
    }
   ],
   "source": [
    "#PART 2(A)\n",
    "for(k in 40:45){\n",
    "    print(k)\n",
    "    print(hypergeometric_pdf(5,120,k,0))\n",
    "}"
   ]
  },
  {
   "cell_type": "markdown",
   "metadata": {},
   "source": [
    "K has to be greater than 43 to ensure that the probability that the manufacturer accepts an unacceptable lot is less than 0.10"
   ]
  },
  {
   "cell_type": "code",
   "execution_count": 132,
   "metadata": {},
   "outputs": [
    {
     "name": "stdout",
     "output_type": "stream",
     "text": [
      "[1] 65\n",
      "[1] 0.1345766\n",
      "[1] 66\n",
      "[1] 0.1261167\n",
      "[1] 67\n",
      "[1] 0.118004\n",
      "[1] 68\n",
      "[1] 0.1102344\n",
      "[1] 69\n",
      "[1] 0.1028039\n",
      "[1] 70\n",
      "[1] 0.09570757\n"
     ]
    }
   ],
   "source": [
    "#PART 2(B)\n",
    "for(k in 65:70){\n",
    "    print(k)\n",
    "    print(hypergeometric_pdf(5,120,k,0)+hypergeometric_pdf(5,120,k,1))\n",
    "}"
   ]
  },
  {
   "cell_type": "markdown",
   "metadata": {},
   "source": [
    "K has to be greater than 69 to ensure that the probability that the manufacturer accepts an unacceptable lot is less than 0.10"
   ]
  },
  {
   "cell_type": "code",
   "execution_count": 133,
   "metadata": {},
   "outputs": [],
   "source": [
    "#PART 3\n",
    "poisson_pdf <- function(rate,calls) {\n",
    "    poisson_pdf = (rate^calls * exp(-1*rate)) / factorial(calls)\n",
    "    return(poisson_pdf)\n",
    "}"
   ]
  },
  {
   "cell_type": "code",
   "execution_count": 134,
   "metadata": {},
   "outputs": [
    {
     "name": "stdout",
     "output_type": "stream",
     "text": [
      "The probability of no calls in the next hour:  0.03019738 \n"
     ]
    }
   ],
   "source": [
    "#PART 3(A)\n",
    "prob_no_calls = poisson_pdf(7/2,0)\n",
    "cat(\"The probability of no calls in the next hour: \", prob_no_calls,\"\\n\")"
   ]
  },
  {
   "cell_type": "code",
   "execution_count": 135,
   "metadata": {},
   "outputs": [
    {
     "name": "stdout",
     "output_type": "stream",
     "text": [
      "The probability of at least 3 calls:  0.6791528 \n"
     ]
    }
   ],
   "source": [
    "#PART 3(B)\n",
    "prob_3_or_more = 1 - poisson_pdf(7/2,2) - poisson_pdf(7/2,1) - poisson_pdf(7/2,0)\n",
    "cat(\"The probability of at least 3 calls: \", prob_3_or_more,\"\\n\")"
   ]
  },
  {
   "cell_type": "code",
   "execution_count": 136,
   "metadata": {},
   "outputs": [
    {
     "name": "stdout",
     "output_type": "stream",
     "text": [
      "The probability of no more than 5 calls:  0.8274162 \n"
     ]
    }
   ],
   "source": [
    "#PART 3(C)\n",
    "prob_5_or_less = poisson_pdf(7/2,5) + poisson_pdf(7/2,4) + poisson_pdf(7/2,3) + poisson_pdf(7/2,2) + poisson_pdf(7/2,1)\n",
    "cat(\"The probability of no more than 5 calls: \", prob_5_or_less,\"\\n\")\n"
   ]
  },
  {
   "cell_type": "code",
   "execution_count": 137,
   "metadata": {},
   "outputs": [],
   "source": [
    "#PART 4\n",
    "\n"
   ]
  },
  {
   "cell_type": "code",
   "execution_count": 138,
   "metadata": {},
   "outputs": [],
   "source": [
    "#PART 5\n",
    "\n",
    "binomial_pdf <- function(p,n,r) {\n",
    "    binomial_pdf = choose(n, r)*(p^r)*(1-p)^(n-r)\n",
    "    return(binomial_pdf)\n",
    "}\n",
    "\n",
    "normal_pdf <- function(x,mean,var) {\n",
    "    normal_pdf = (1/(sqrt(var)*sqrt(2*pi)))*exp(-1/2*((x-mean)/sqrt(var))^2)\n",
    "    return(normal_pdf)\n",
    "}\n",
    "\n",
    "mean = 28*0.7\n",
    "var = 28*0.7*(1-0.7)\n",
    "integrand <- function(x) {(1/(sqrt(var)*sqrt(2*pi)))*exp(-1/2*((x-mean)/sqrt(var))^2)}\n",
    "\n"
   ]
  },
  {
   "cell_type": "markdown",
   "metadata": {},
   "source": [
    "PART 5(A)\n",
    "\n",
    "The density function of the normal approximation to the binomial distribution is:\n",
    "\n",
    "$\\frac{1}{(28*0.7*(1-0.7))^{1/2}*(2\\pi)^{1/2}}*e^{\\frac{-1}{2}*(\\frac{X-(28*0.7)}{(28*0.7*(1-0.7))^{1/2}})^{2}}$\n",
    "\n",
    "A graph is generated below, the dotted points represent the binomial distribution and the green line represents the normal approximation.\n"
   ]
  },
  {
   "cell_type": "code",
   "execution_count": 139,
   "metadata": {},
   "outputs": [
    {
     "data": {
      "image/png": "[encoded data removed]",
      "text/plain": [
       "plot without title"
      ]
     },
     "metadata": {},
     "output_type": "display_data"
    }
   ],
   "source": [
    "options(warn=-1)\n",
    "\n",
    "x = seq(0,40,length=41);\n",
    "plot(x,normal_pdf(x,mean,var), type = \"l\")\n",
    "lines(x,binomial_pdf(0.7,28,x),col=\"green\")\n",
    "points(x,binomial_pdf(0.7,28,x))"
   ]
  },
  {
   "cell_type": "code",
   "execution_count": 140,
   "metadata": {},
   "outputs": [
    {
     "name": "stdout",
     "output_type": "stream",
     "text": [
      "The probability that X is between 18 and 20 solved by integrating the normal approximation is:  0.3108293 \n",
      "The probability that X is between 18 and 20 solved by using the standard normal CDF is:  0.3108293 \n"
     ]
    }
   ],
   "source": [
    "#PART 5(B)(i)\n",
    "\n",
    "\n",
    "#Solving for P(18<=X<=20)\n",
    "lower = (18-mean)/sqrt(var)\n",
    "upper = (20-mean)/sqrt(var)\n",
    "prob_between_18_and_20 = integrate(integrand, 18, 20, subdivisions = 100L)\n",
    "\n",
    "a = prob_between_18_and_20\n",
    "b =pnorm(lower, mean=0, sd=1, lower.tail=FALSE)-pnorm(upper, mean=0, sd=1, lower.tail=FALSE)\n",
    "\n",
    "\n",
    "cat(\"The probability that X is between 18 and 20 solved by integrating the normal approximation is: \", a$value,\"\\n\")\n",
    "cat(\"The probability that X is between 18 and 20 solved by using the standard normal CDF is: \",b ,\"\\n\")"
   ]
  },
  {
   "cell_type": "code",
   "execution_count": 141,
   "metadata": {},
   "outputs": [
    {
     "name": "stdout",
     "output_type": "stream",
     "text": [
      "The probability that X is greater than 17.5 solved by integrating the normal approximation is:  0.8067619 \n",
      "The probability that X is greater than 17.5 solved by using the standard normal CDF is:  0.8067619 \n"
     ]
    }
   ],
   "source": [
    "#PART 5(B)(ii)\n",
    "\n",
    "#Solving for P(X>=17.5)\n",
    "upper1 = (17.5-mean)/sqrt(var)\n",
    "prob_greater_than_17.5 = integrate(integrand, lower = 17.5, upper = Inf)\n",
    "c = prob_greater_than_17.5\n",
    "d = pnorm(upper1, mean=0, sd=1, lower.tail=FALSE)\n",
    "\n",
    "cat(\"The probability that X is greater than 17.5 solved by integrating the normal approximation is: \", c$value,\"\\n\")\n",
    "cat(\"The probability that X is greater than 17.5 solved by using the standard normal CDF is: \",d ,\"\\n\")"
   ]
  },
  {
   "cell_type": "code",
   "execution_count": 142,
   "metadata": {},
   "outputs": [
    {
     "name": "stdout",
     "output_type": "stream",
     "text": [
      "The value of X0 by using the standard normal inverse CDF and then converting back using mean and stdv is:  17.18857 \n",
      "The value of X0 by using the normal inverse CDF is:  17.18857 \n"
     ]
    }
   ],
   "source": [
    "#PART 5(C)\n",
    "x = qnorm(0.84,mean=0, sd=1, lower.tail=FALSE)\n",
    "x0 = (x*sqrt(var))+mean\n",
    "check = qnorm(0.84,mean=mean, sd=sqrt(var), lower.tail=FALSE)\n",
    "\n",
    "cat(\"The value of X0 by using the standard normal inverse CDF and then converting back using mean and stdv is: \", x0,\"\\n\")\n",
    "\n",
    "cat(\"The value of X0 by using the normal inverse CDF is: \", check,\"\\n\")\n"
   ]
  }
 ],
 "metadata": {
  "kernelspec": {
   "display_name": "R",
   "language": "R",
   "name": "ir"
  },
  "language_info": {
   "codemirror_mode": "r",
   "file_extension": ".r",
   "mimetype": "text/x-r-source",
   "name": "R",
   "pygments_lexer": "r",
   "version": "3.5.1"
  }
 },
 "nbformat": 4,
 "nbformat_minor": 2
}
