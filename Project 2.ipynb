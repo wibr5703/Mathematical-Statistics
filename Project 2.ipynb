{
 "cells": [
  {
   "cell_type": "code",
   "execution_count": 1,
   "metadata": {},
   "outputs": [],
   "source": [
    "#PROBLEM 1\n",
    "\n",
    "p1 = c(4,6,4,4,1,6,4,6,3,5,5,6,7,7,1)\n"
   ]
  },
  {
   "cell_type": "code",
   "execution_count": 2,
   "metadata": {},
   "outputs": [
    {
     "data": {
      "text/html": [
       "4.6"
      ],
      "text/latex": [
       "4.6"
      ],
      "text/markdown": [
       "4.6"
      ],
      "text/plain": [
       "[1] 4.6"
      ]
     },
     "metadata": {},
     "output_type": "display_data"
    }
   ],
   "source": [
    "mean(p1)"
   ]
  },
  {
   "cell_type": "code",
   "execution_count": 99,
   "metadata": {},
   "outputs": [
    {
     "data": {
      "text/html": [
       "1.52453616759846"
      ],
      "text/latex": [
       "1.52453616759846"
      ],
      "text/markdown": [
       "1.52453616759846"
      ],
      "text/plain": [
       "[1] 1.524536"
      ]
     },
     "metadata": {},
     "output_type": "display_data"
    }
   ],
   "source": [
    "#PROBLEM 2\n",
    "\n",
    "p2 = c(5.3,5.6,7.6,6.8,4.8,5.7,9.0,6.0,4.9,8.4,6.5,7.9,6.8,4.3,8.5,3.6,6.1,5.8,6.4,4.0)\n",
    "\n",
    "p2_sampleMean = mean(p2)\n",
    "p2_length = length(p2)\n",
    "p2_t_value = qt(0.03/2, p2_length-1, lower.tail = FALSE, log.p = FALSE)\n",
    "p2_sd = sd(p2)\n",
    "\n",
    "p2_E = p2_t_value*p2_sd/sqrt(p2_length)\n",
    "\n",
    "p2_sd"
   ]
  },
  {
   "cell_type": "code",
   "execution_count": 4,
   "metadata": {},
   "outputs": [
    {
     "data": {
      "text/html": [
       "5.40037661257665"
      ],
      "text/latex": [
       "5.40037661257665"
      ],
      "text/markdown": [
       "5.40037661257665"
      ],
      "text/plain": [
       "[1] 5.400377"
      ]
     },
     "metadata": {},
     "output_type": "display_data"
    },
    {
     "data": {
      "text/html": [
       "6.99962338742335"
      ],
      "text/latex": [
       "6.99962338742335"
      ],
      "text/markdown": [
       "6.99962338742335"
      ],
      "text/plain": [
       "[1] 6.999623"
      ]
     },
     "metadata": {},
     "output_type": "display_data"
    }
   ],
   "source": [
    "p2_sampleMean-(p2_t_value*p2_sd/sqrt(p2_length))\n",
    "p2_sampleMean+(p2_t_value*p2_sd/sqrt(p2_length))"
   ]
  },
  {
   "cell_type": "code",
   "execution_count": 9,
   "metadata": {},
   "outputs": [
    {
     "data": {
      "text/html": [
       "-2.43884304339879"
      ],
      "text/latex": [
       "-2.43884304339879"
      ],
      "text/markdown": [
       "-2.43884304339879"
      ],
      "text/plain": [
       "[1] -2.438843"
      ]
     },
     "metadata": {},
     "output_type": "display_data"
    },
    {
     "data": {
      "text/html": [
       "-2.05374891063182"
      ],
      "text/latex": [
       "-2.05374891063182"
      ],
      "text/markdown": [
       "-2.05374891063182"
      ],
      "text/plain": [
       "[1] -2.053749"
      ]
     },
     "metadata": {},
     "output_type": "display_data"
    }
   ],
   "source": [
    "#PROBLEM 3(A)\n",
    "\n",
    "p3_xbar_1 = 53.8\n",
    "p3_n_1 = 400\n",
    "p3_s_1 = 2.4\n",
    "\n",
    "p3_xbar_2 = 54.5\n",
    "p3_n_2 = 500\n",
    "p3_s_2 = 2.5\n",
    "\n",
    "\n",
    "p3_z = ((p3_xbar_1-p3_xbar_2)-(-0.3))/sqrt((2.4^2/400)+(2.5^2/500))\n",
    "\n",
    "p3_z\n",
    "\n",
    "qnorm(0.02,mean=0,sd=1)"
   ]
  },
  {
   "cell_type": "code",
   "execution_count": 10,
   "metadata": {},
   "outputs": [
    {
     "data": {
      "text/html": [
       "-1.82913228254909"
      ],
      "text/latex": [
       "-1.82913228254909"
      ],
      "text/markdown": [
       "-1.82913228254909"
      ],
      "text/plain": [
       "[1] -1.829132"
      ]
     },
     "metadata": {},
     "output_type": "display_data"
    },
    {
     "data": {
      "text/html": [
       "-2.05374891063182"
      ],
      "text/latex": [
       "-2.05374891063182"
      ],
      "text/markdown": [
       "-2.05374891063182"
      ],
      "text/plain": [
       "[1] -2.053749"
      ]
     },
     "metadata": {},
     "output_type": "display_data"
    }
   ],
   "source": [
    "#PROBLEM 3(B)\n",
    "\n",
    "p3_z_partb = ((p3_xbar_1-p3_xbar_2)-(-0.4))/sqrt((2.4^2/400)+(2.5^2/500))\n",
    "\n",
    "p3_z_partb\n",
    "\n",
    "qnorm(0.02,mean=0,sd=1)"
   ]
  },
  {
   "cell_type": "code",
   "execution_count": 120,
   "metadata": {},
   "outputs": [
    {
     "data": {
      "text/html": [
       "0.0336898969384112"
      ],
      "text/latex": [
       "0.0336898969384112"
      ],
      "text/markdown": [
       "0.0336898969384112"
      ],
      "text/plain": [
       "[1] 0.0336899"
      ]
     },
     "metadata": {},
     "output_type": "display_data"
    }
   ],
   "source": [
    "#PROBLEM 3(C)\n",
    "\n",
    "p3_p_score = pnorm(p3_z_partb, mean = 0, sd = 1, lower.tail = TRUE, log.p = FALSE)\n",
    "p3_p_score"
   ]
  },
  {
   "cell_type": "code",
   "execution_count": 118,
   "metadata": {},
   "outputs": [
    {
     "data": {
      "text/html": [
       "0.936593059663156"
      ],
      "text/latex": [
       "0.936593059663156"
      ],
      "text/markdown": [
       "0.936593059663156"
      ],
      "text/plain": [
       "[1] 0.9365931"
      ]
     },
     "metadata": {},
     "output_type": "display_data"
    }
   ],
   "source": [
    "#PROBLEM 3(D)(1)\n",
    "\n",
    "p3_zalpha_partd1 = qnorm(0.02,mean=0,sd=1)\n",
    "p3_k_partd1 = -0.30+p3_zalpha_partd*sqrt((2.4^2/400)+(2.5^2/500))\n",
    "p3_K_partd1 = (p3_k_partd-(-0.28))/sqrt((2.4^2/400)+(2.5^2/500))\n",
    "P3_beta_partd1 = 1-pnorm(p3_K_partd1, mean = 0, sd = 1, lower.tail = TRUE, log.p = FALSE)\n",
    "\n",
    "sigma = sqrt((2.4^2/400)+(2.5^2/500))\n",
    "intersection = -0.29\n",
    "k = p3_k_partd1\n",
    "integrand0 <- function(x) {(1/(sigma*sqrt(2*pi)))*exp(-1/2*((x+0.3)/sigma)^2)}\n",
    "integrand1 <- function(x) {(1/(sigma*sqrt(2*pi)))*exp(-1/2*((x+0.28)/sigma)^2)}\n",
    "\n",
    "a=integrate(integrand0, lower = intersection, upper = Inf, subdivisions = 200L)\n",
    "b=integrate(integrand1, lower = k, upper = intersection, subdivisions = 200L)\n",
    "beta1 = a$value+b$value\n",
    "\n",
    "beta1\n"
   ]
  },
  {
   "cell_type": "code",
   "execution_count": 119,
   "metadata": {},
   "outputs": [
    {
     "data": {
      "text/html": [
       "0.955679826991673"
      ],
      "text/latex": [
       "0.955679826991673"
      ],
      "text/markdown": [
       "0.955679826991673"
      ],
      "text/plain": [
       "[1] 0.9556798"
      ]
     },
     "metadata": {},
     "output_type": "display_data"
    }
   ],
   "source": [
    "#PROBLEM 3(D)(2)\n",
    "\n",
    "p3_zalpha_partd2 = qnorm(0.02,mean=0,sd=1)\n",
    "p3_k_partd2 = -0.30+p3_zalpha_partd*sqrt((2.4^2/400)+(2.5^2/500))\n",
    "p3_K_partd2 = (p3_k_partd-(-0.31))/sqrt((2.4^2/400)+(2.5^2/500))\n",
    "P3_beta_partd2 = 1-pnorm(p3_K_partd2, mean = 0, sd = 1, lower.tail = TRUE, log.p = FALSE)\n",
    "\n",
    "sigma = sqrt((2.4^2/400)+(2.5^2/500))\n",
    "intersection1 = -0.305\n",
    "k = p3_k_partd1\n",
    "integrand00 <- function(x) {(1/(sigma*sqrt(2*pi)))*exp(-1/2*((x+0.3)/sigma)^2)}\n",
    "integrand11 <- function(x) {(1/(sigma*sqrt(2*pi)))*exp(-1/2*((x+0.31)/sigma)^2)}\n",
    "\n",
    "a1=integrate(integrand00, lower = k, upper = intersection1, subdivisions = 200L)\n",
    "b1=integrate(integrand11, lower = intersection1, upper = Inf, subdivisions = 200L)\n",
    "beta2 = a1$value+b1$value\n",
    "\n",
    "beta2"
   ]
  },
  {
   "cell_type": "code",
   "execution_count": 112,
   "metadata": {},
   "outputs": [
    {
     "name": "stdout",
     "output_type": "stream",
     "text": [
      "Question 4:  \n",
      "Chi-squared test stat:  3.497039 \n",
      "Critical region bound:  9.487729 \n",
      "Conclusion is that we fail to reject the null hypothesis because our test statistic is less that our critical region bound \n"
     ]
    }
   ],
   "source": [
    "# PROBLEM 4\n",
    "\n",
    "vector1 <- c(45,52,60)\n",
    "vector2 <- c(42,55,43)\n",
    "vector3 <- c(15,28,25)\n",
    "\n",
    "column.names <- c(\"1\",\"2\",\"3+\")\n",
    "row.names <- c(\"Poor\",\"Adequate\",\"Good\")\n",
    "\n",
    "p4_array = array(c(vector1,vector2,vector3), c(3,3),dimnames = list(row.names,column.names))\n",
    "\n",
    "e <- function(i,j,array) {\n",
    "    Fidot = sum(array[i,])\n",
    "    Fjdot = sum(array[,j])\n",
    "    F = sum(array)\n",
    "    return(Fidot*Fjdot/F)\n",
    "}\n",
    "\n",
    "p4_chiSquared_testStat <- function(array1){\n",
    "    rows = dim(array1)[1]\n",
    "    cols = dim(array1)[2]\n",
    "    sum = 0\n",
    "    for(i in 1:rows){\n",
    "        for(j in 1:cols){\n",
    "            term = ((array1[i,j]-e(i,j,array1))^2)/(e(i,j,array1))\n",
    "            sum = sum + term\n",
    "        }\n",
    "    }\n",
    "    return(sum)\n",
    "}\n",
    "\n",
    "p4_chiSquared_testStat = p4_chiSquared_testStat(p4_array)\n",
    "\n",
    "cat('Question 4: ',\"\\n\")\n",
    "cat('Chi-squared test stat: ',p4_chiSquared_testStat,\"\\n\")\n",
    "cat('Critical region bound: ',qchisq(1-0.05, df=3+3-2),\"\\n\")\n",
    "cat('Conclusion is that we fail to reject the null hypothesis because our test statistic is less that our critical region bound',\"\\n\")\n"
   ]
  },
  {
   "cell_type": "code",
   "execution_count": 113,
   "metadata": {},
   "outputs": [
    {
     "name": "stdout",
     "output_type": "stream",
     "text": [
      "Question 5:  \n",
      "Chi-squared test stat:  31.41491 \n",
      "Critical region bound:  12.59159 \n",
      "Conclusion is that we reject the null hypothesis because our test score is greater then our critical region bound \n"
     ]
    }
   ],
   "source": [
    "# PROBLEM 5\n",
    "library(tidyverse)\n",
    "\n",
    "poisson_pdf <- function(rate,calls) {\n",
    "    poisson_pdf = (rate^calls * exp(-1*rate)) / factorial(calls)\n",
    "    return(poisson_pdf)\n",
    "}\n",
    "\n",
    "array1 = c(0,1,2,3,4,5,6,7,8)\n",
    "array2 = c(28,52,60,70,50,45,32,18,5)\n",
    "\n",
    "p4_array = array(c(array1,array2), c(9,2))\n",
    "\n",
    "\n",
    "data_frame = data.frame(p4_array)\n",
    "\n",
    "data_frame = data_frame %>% mutate(`Probability` = poisson_pdf(3.24,`X1`), `Expected Freq` = sum(`X2`)*`Probability`)\n",
    "\n",
    "p4_chiSquared_testStat <- function(df){\n",
    "    k = dim(df)[1]\n",
    "    sum = 0\n",
    "    for(i in 1:k){\n",
    "        value = ((data_frame[i,2]-data_frame[i,4])^2)/(data_frame[i,4])\n",
    "        sum = sum + value\n",
    "    }\n",
    "    return(sum)\n",
    "}\n",
    "\n",
    "cat('Question 5: ',\"\\n\")\n",
    "cat('Chi-squared test stat: ',p4_chiSquared_testStat(data_frame),\"\\n\")\n",
    "cat('Critical region bound: ',qchisq(1-0.05, df=8-1-1),\"\\n\")\n",
    "cat('Conclusion is that we reject the null hypothesis because our test score is greater then our critical region bound',\"\\n\")"
   ]
  }
 ],
 "metadata": {
  "kernelspec": {
   "display_name": "R",
   "language": "R",
   "name": "ir"
  },
  "language_info": {
   "codemirror_mode": "r",
   "file_extension": ".r",
   "mimetype": "text/x-r-source",
   "name": "R",
   "pygments_lexer": "r",
   "version": "3.5.1"
  }
 },
 "nbformat": 4,
 "nbformat_minor": 2
}
